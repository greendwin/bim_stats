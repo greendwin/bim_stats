{
 "cells": [
  {
   "cell_type": "markdown",
   "metadata": {},
   "source": [
    "# Анализ зданий"
   ]
  },
  {
   "cell_type": "code",
   "execution_count": 2,
   "metadata": {},
   "outputs": [
    {
     "data": {
      "text/plain": [
       "Filename\n",
       "SantoryTest1                           173988\n",
       "Prefab                                  30570\n",
       "Uitbreiding stadion Heracles-Almelo     28132\n",
       "12184-P Luchtwachttoren Bladel V2       26915\n",
       "BIM model                               16132\n",
       "Name: count, dtype: int64"
      ]
     },
     "execution_count": 2,
     "metadata": {},
     "output_type": "execute_result"
    }
   ],
   "source": [
    "import pandas as pd\n",
    "pd.set_option('display.max_columns', None)\n",
    "\n",
    "df_full = pd.read_csv(\"data/IFC_2000_300_Columns_Selection.csv\", low_memory=False)\n",
    "df_full['Filename'] = df_full['Filename'].str.replace('_ifc', '').str.replace('_', ' ')\n",
    "df_full.value_counts(\"Filename\")"
   ]
  },
  {
   "cell_type": "code",
   "execution_count": 43,
   "metadata": {},
   "outputs": [
    {
     "data": {
      "text/html": [
       "<div>\n",
       "<style scoped>\n",
       "    .dataframe tbody tr th:only-of-type {\n",
       "        vertical-align: middle;\n",
       "    }\n",
       "\n",
       "    .dataframe tbody tr th {\n",
       "        vertical-align: top;\n",
       "    }\n",
       "\n",
       "    .dataframe thead th {\n",
       "        text-align: right;\n",
       "    }\n",
       "</style>\n",
       "<table border=\"1\" class=\"dataframe\">\n",
       "  <thead>\n",
       "    <tr style=\"text-align: right;\">\n",
       "      <th>IfcEntity</th>\n",
       "      <th>IfcBeam</th>\n",
       "      <th>IfcBuildingElementPart</th>\n",
       "      <th>IfcColumn</th>\n",
       "      <th>IfcCovering</th>\n",
       "      <th>IfcDiscreteAccessory</th>\n",
       "      <th>IfcFooting</th>\n",
       "      <th>IfcGrid</th>\n",
       "      <th>IfcMechanicalFastener</th>\n",
       "      <th>IfcMember</th>\n",
       "      <th>IfcPlate</th>\n",
       "      <th>IfcSlab</th>\n",
       "      <th>IfcWall</th>\n",
       "    </tr>\n",
       "    <tr>\n",
       "      <th>Filename</th>\n",
       "      <th></th>\n",
       "      <th></th>\n",
       "      <th></th>\n",
       "      <th></th>\n",
       "      <th></th>\n",
       "      <th></th>\n",
       "      <th></th>\n",
       "      <th></th>\n",
       "      <th></th>\n",
       "      <th></th>\n",
       "      <th></th>\n",
       "      <th></th>\n",
       "    </tr>\n",
       "  </thead>\n",
       "  <tbody>\n",
       "    <tr>\n",
       "      <th>12184-P Luchtwachttoren Bladel V2</th>\n",
       "      <td>25631</td>\n",
       "      <td>0</td>\n",
       "      <td>598</td>\n",
       "      <td>0</td>\n",
       "      <td>0</td>\n",
       "      <td>4</td>\n",
       "      <td>0</td>\n",
       "      <td>549</td>\n",
       "      <td>0</td>\n",
       "      <td>8</td>\n",
       "      <td>88</td>\n",
       "      <td>37</td>\n",
       "    </tr>\n",
       "    <tr>\n",
       "      <th>BIM model</th>\n",
       "      <td>12121</td>\n",
       "      <td>0</td>\n",
       "      <td>45</td>\n",
       "      <td>3332</td>\n",
       "      <td>0</td>\n",
       "      <td>0</td>\n",
       "      <td>0</td>\n",
       "      <td>0</td>\n",
       "      <td>578</td>\n",
       "      <td>56</td>\n",
       "      <td>0</td>\n",
       "      <td>0</td>\n",
       "    </tr>\n",
       "    <tr>\n",
       "      <th>Prefab</th>\n",
       "      <td>16692</td>\n",
       "      <td>0</td>\n",
       "      <td>2751</td>\n",
       "      <td>1018</td>\n",
       "      <td>5635</td>\n",
       "      <td>0</td>\n",
       "      <td>0</td>\n",
       "      <td>96</td>\n",
       "      <td>184</td>\n",
       "      <td>0</td>\n",
       "      <td>3818</td>\n",
       "      <td>376</td>\n",
       "    </tr>\n",
       "    <tr>\n",
       "      <th>SantoryTest1</th>\n",
       "      <td>12482</td>\n",
       "      <td>0</td>\n",
       "      <td>6360</td>\n",
       "      <td>0</td>\n",
       "      <td>152234</td>\n",
       "      <td>0</td>\n",
       "      <td>56</td>\n",
       "      <td>0</td>\n",
       "      <td>2828</td>\n",
       "      <td>28</td>\n",
       "      <td>0</td>\n",
       "      <td>0</td>\n",
       "    </tr>\n",
       "    <tr>\n",
       "      <th>Uitbreiding stadion Heracles-Almelo</th>\n",
       "      <td>13927</td>\n",
       "      <td>900</td>\n",
       "      <td>4924</td>\n",
       "      <td>1765</td>\n",
       "      <td>5518</td>\n",
       "      <td>0</td>\n",
       "      <td>0</td>\n",
       "      <td>16</td>\n",
       "      <td>651</td>\n",
       "      <td>336</td>\n",
       "      <td>24</td>\n",
       "      <td>71</td>\n",
       "    </tr>\n",
       "  </tbody>\n",
       "</table>\n",
       "</div>"
      ],
      "text/plain": [
       "IfcEntity                            IfcBeam  IfcBuildingElementPart  \\\n",
       "Filename                                                               \n",
       "12184-P Luchtwachttoren Bladel V2      25631                       0   \n",
       "BIM model                              12121                       0   \n",
       "Prefab                                 16692                       0   \n",
       "SantoryTest1                           12482                       0   \n",
       "Uitbreiding stadion Heracles-Almelo    13927                     900   \n",
       "\n",
       "IfcEntity                            IfcColumn  IfcCovering  \\\n",
       "Filename                                                      \n",
       "12184-P Luchtwachttoren Bladel V2          598            0   \n",
       "BIM model                                   45         3332   \n",
       "Prefab                                    2751         1018   \n",
       "SantoryTest1                              6360            0   \n",
       "Uitbreiding stadion Heracles-Almelo       4924         1765   \n",
       "\n",
       "IfcEntity                            IfcDiscreteAccessory  IfcFooting  \\\n",
       "Filename                                                                \n",
       "12184-P Luchtwachttoren Bladel V2                       0           4   \n",
       "BIM model                                               0           0   \n",
       "Prefab                                               5635           0   \n",
       "SantoryTest1                                       152234           0   \n",
       "Uitbreiding stadion Heracles-Almelo                  5518           0   \n",
       "\n",
       "IfcEntity                            IfcGrid  IfcMechanicalFastener  \\\n",
       "Filename                                                              \n",
       "12184-P Luchtwachttoren Bladel V2          0                    549   \n",
       "BIM model                                  0                      0   \n",
       "Prefab                                     0                     96   \n",
       "SantoryTest1                              56                      0   \n",
       "Uitbreiding stadion Heracles-Almelo        0                     16   \n",
       "\n",
       "IfcEntity                            IfcMember  IfcPlate  IfcSlab  IfcWall  \n",
       "Filename                                                                    \n",
       "12184-P Luchtwachttoren Bladel V2            0         8       88       37  \n",
       "BIM model                                  578        56        0        0  \n",
       "Prefab                                     184         0     3818      376  \n",
       "SantoryTest1                              2828        28        0        0  \n",
       "Uitbreiding stadion Heracles-Almelo        651       336       24       71  "
      ]
     },
     "execution_count": 43,
     "metadata": {},
     "output_type": "execute_result"
    }
   ],
   "source": [
    "df_full.groupby(['Filename', 'IfcEntity'])['IfcEntity'].count().unstack(fill_value=0)"
   ]
  },
  {
   "cell_type": "markdown",
   "metadata": {},
   "source": [
    "### Веса балок"
   ]
  },
  {
   "cell_type": "code",
   "execution_count": 32,
   "metadata": {},
   "outputs": [
    {
     "data": {
      "text/html": [
       "<div>\n",
       "<style scoped>\n",
       "    .dataframe tbody tr th:only-of-type {\n",
       "        vertical-align: middle;\n",
       "    }\n",
       "\n",
       "    .dataframe tbody tr th {\n",
       "        vertical-align: top;\n",
       "    }\n",
       "\n",
       "    .dataframe thead th {\n",
       "        text-align: right;\n",
       "    }\n",
       "</style>\n",
       "<table border=\"1\" class=\"dataframe\">\n",
       "  <thead>\n",
       "    <tr style=\"text-align: right;\">\n",
       "      <th></th>\n",
       "      <th>count</th>\n",
       "      <th>mean</th>\n",
       "      <th>std</th>\n",
       "      <th>min</th>\n",
       "      <th>25%</th>\n",
       "      <th>50%</th>\n",
       "      <th>75%</th>\n",
       "      <th>max</th>\n",
       "    </tr>\n",
       "    <tr>\n",
       "      <th>Filename</th>\n",
       "      <th></th>\n",
       "      <th></th>\n",
       "      <th></th>\n",
       "      <th></th>\n",
       "      <th></th>\n",
       "      <th></th>\n",
       "      <th></th>\n",
       "      <th></th>\n",
       "    </tr>\n",
       "  </thead>\n",
       "  <tbody>\n",
       "    <tr>\n",
       "      <th>12184-P Luchtwachttoren Bladel V2</th>\n",
       "      <td>25631.0</td>\n",
       "      <td>0.975060</td>\n",
       "      <td>3.364243</td>\n",
       "      <td>0.005118</td>\n",
       "      <td>0.019423</td>\n",
       "      <td>0.024302</td>\n",
       "      <td>0.024302</td>\n",
       "      <td>160.526250</td>\n",
       "    </tr>\n",
       "    <tr>\n",
       "      <th>BIM model</th>\n",
       "      <td>12121.0</td>\n",
       "      <td>25.808034</td>\n",
       "      <td>43.784575</td>\n",
       "      <td>0.000000</td>\n",
       "      <td>2.844212</td>\n",
       "      <td>2.844212</td>\n",
       "      <td>37.927967</td>\n",
       "      <td>369.589555</td>\n",
       "    </tr>\n",
       "    <tr>\n",
       "      <th>Prefab</th>\n",
       "      <td>16692.0</td>\n",
       "      <td>19.980557</td>\n",
       "      <td>317.741952</td>\n",
       "      <td>0.000000</td>\n",
       "      <td>0.299743</td>\n",
       "      <td>0.738921</td>\n",
       "      <td>1.476510</td>\n",
       "      <td>12330.525000</td>\n",
       "    </tr>\n",
       "    <tr>\n",
       "      <th>SantoryTest1</th>\n",
       "      <td>12482.0</td>\n",
       "      <td>61.422041</td>\n",
       "      <td>227.045421</td>\n",
       "      <td>1.145472</td>\n",
       "      <td>9.355126</td>\n",
       "      <td>20.081792</td>\n",
       "      <td>20.398539</td>\n",
       "      <td>3368.821927</td>\n",
       "    </tr>\n",
       "    <tr>\n",
       "      <th>Uitbreiding stadion Heracles-Almelo</th>\n",
       "      <td>13927.0</td>\n",
       "      <td>445.528068</td>\n",
       "      <td>1951.959584</td>\n",
       "      <td>0.000000</td>\n",
       "      <td>0.639451</td>\n",
       "      <td>3.972885</td>\n",
       "      <td>19.895040</td>\n",
       "      <td>33148.397876</td>\n",
       "    </tr>\n",
       "  </tbody>\n",
       "</table>\n",
       "</div>"
      ],
      "text/plain": [
       "                                       count        mean          std  \\\n",
       "Filename                                                                \n",
       "12184-P Luchtwachttoren Bladel V2    25631.0    0.975060     3.364243   \n",
       "BIM model                            12121.0   25.808034    43.784575   \n",
       "Prefab                               16692.0   19.980557   317.741952   \n",
       "SantoryTest1                         12482.0   61.422041   227.045421   \n",
       "Uitbreiding stadion Heracles-Almelo  13927.0  445.528068  1951.959584   \n",
       "\n",
       "                                          min       25%        50%        75%  \\\n",
       "Filename                                                                        \n",
       "12184-P Luchtwachttoren Bladel V2    0.005118  0.019423   0.024302   0.024302   \n",
       "BIM model                            0.000000  2.844212   2.844212  37.927967   \n",
       "Prefab                               0.000000  0.299743   0.738921   1.476510   \n",
       "SantoryTest1                         1.145472  9.355126  20.081792  20.398539   \n",
       "Uitbreiding stadion Heracles-Almelo  0.000000  0.639451   3.972885  19.895040   \n",
       "\n",
       "                                              max  \n",
       "Filename                                           \n",
       "12184-P Luchtwachttoren Bladel V2      160.526250  \n",
       "BIM model                              369.589555  \n",
       "Prefab                               12330.525000  \n",
       "SantoryTest1                          3368.821927  \n",
       "Uitbreiding stadion Heracles-Almelo  33148.397876  "
      ]
     },
     "execution_count": 32,
     "metadata": {},
     "output_type": "execute_result"
    }
   ],
   "source": [
    "df_full\\\n",
    "    .loc[lambda x: x['IfcEntity'] == 'IfcBeam']\\\n",
    "    .groupby('Filename')['NetWeight'].describe()"
   ]
  },
  {
   "cell_type": "markdown",
   "metadata": {},
   "source": [
    "### Суммарная площадь стен"
   ]
  },
  {
   "cell_type": "code",
   "execution_count": 58,
   "metadata": {},
   "outputs": [
    {
     "data": {
      "text/plain": [
       "Filename\n",
       "12184-P Luchtwachttoren Bladel V2         92.051201\n",
       "Prefab                                 13166.169810\n",
       "Uitbreiding stadion Heracles-Almelo     2031.654715\n",
       "Name: NetSurfaceArea, dtype: float64"
      ]
     },
     "execution_count": 58,
     "metadata": {},
     "output_type": "execute_result"
    }
   ],
   "source": [
    "df_full\\\n",
    "    .loc[lambda x: x['IfcEntity'] == 'IfcWall']\\\n",
    "    .groupby('Filename')['NetSurfaceArea'].sum()"
   ]
  },
  {
   "cell_type": "markdown",
   "metadata": {},
   "source": [
    "### Мелкие детали `IfcDiscreteAccessory` по зданиям"
   ]
  },
  {
   "cell_type": "code",
   "execution_count": 19,
   "metadata": {},
   "outputs": [
    {
     "data": {
      "text/plain": [
       "Filename                             Name        \n",
       "Prefab                               BetonSparing      2788\n",
       "                                     vulpijp           1964\n",
       "                                     betonsparing       862\n",
       "                                     Plaat               14\n",
       "                                     Koker                2\n",
       "SantoryTest1                         PLATE           108288\n",
       "                                     JOIST            27148\n",
       "                                     STIFFENER         4344\n",
       "                                     COLUMN            3868\n",
       "                                     TURNBUCKLE        2872\n",
       "Uitbreiding stadion Heracles-Almelo  GAIN              2879\n",
       "                                     HALVE_BOL          760\n",
       "                                     PLAAT              712\n",
       "                                     BUIS               617\n",
       "                                     LIGGER             214\n",
       "Name: count, dtype: int64"
      ]
     },
     "execution_count": 19,
     "metadata": {},
     "output_type": "execute_result"
    }
   ],
   "source": [
    "df_full\\\n",
    "    .loc[lambda x: x['IfcEntity'] == 'IfcDiscreteAccessory']\\\n",
    "    .groupby('Filename')\\\n",
    "    .apply(lambda x: x['Name'].value_counts().head(5), include_groups=False)"
   ]
  },
  {
   "cell_type": "markdown",
   "metadata": {},
   "source": [
    "### Топ-10 размеров панелей"
   ]
  },
  {
   "cell_type": "code",
   "execution_count": 47,
   "metadata": {},
   "outputs": [
    {
     "data": {
      "text/plain": [
       "Length  Width  ObjectType\n",
       "107.0   6.0    PL6*27        13632\n",
       "320.0   9.0    PL9*80         9968\n",
       "155.0   6.0    PL6*60         7200\n",
       "               PL6*65         7068\n",
       "320.0   9.0    PL9*200        5088\n",
       "               PL9*150        5088\n",
       "205.9   9.0    PL9*125        4880\n",
       "155.0   6.0    PL6*80         3776\n",
       "177.0   6.0    PL6*113        3408\n",
       "256.0   16.0   PL16*96        3344\n",
       "Name: count, dtype: int64"
      ]
     },
     "execution_count": 47,
     "metadata": {},
     "output_type": "execute_result"
    }
   ],
   "source": [
    "df_full\\\n",
    "    .loc[lambda x: x['IfcEntity'] == 'IfcDiscreteAccessory']\\\n",
    "    .loc[lambda x: x['Name'] == 'PLATE']\\\n",
    "    .loc[:, ['Length', 'Width', 'ObjectType']]\\\n",
    "    .value_counts()\\\n",
    "    .head(10)"
   ]
  }
 ],
 "metadata": {
  "kernelspec": {
   "display_name": "bim-stats-IlaQlVHF-py3.11",
   "language": "python",
   "name": "python3"
  },
  "language_info": {
   "codemirror_mode": {
    "name": "ipython",
    "version": 3
   },
   "file_extension": ".py",
   "mimetype": "text/x-python",
   "name": "python",
   "nbconvert_exporter": "python",
   "pygments_lexer": "ipython3",
   "version": "3.11.3"
  }
 },
 "nbformat": 4,
 "nbformat_minor": 2
}
